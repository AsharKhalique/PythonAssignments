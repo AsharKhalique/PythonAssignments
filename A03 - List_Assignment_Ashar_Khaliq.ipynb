{
 "cells": [
  {
   "cell_type": "code",
   "execution_count": 1,
   "metadata": {},
   "outputs": [
    {
     "data": {
      "text/plain": [
       "['Apple', 'Banana', 'Orange', 'Grape', 'Kiwi']"
      ]
     },
     "metadata": {},
     "output_type": "display_data"
    },
    {
     "data": {
      "text/plain": [
       "['Apple', 'Banana', 'Orange', 'Grape', 'Kiwi', 'Pear']"
      ]
     },
     "metadata": {},
     "output_type": "display_data"
    },
    {
     "data": {
      "text/plain": [
       "['Apple', 'Mango', 'Banana', 'Orange', 'Grape', 'Kiwi', 'Pear']"
      ]
     },
     "metadata": {},
     "output_type": "display_data"
    },
    {
     "data": {
      "text/plain": [
       "['Apple', 'Mango', 'Banana', 'Grape', 'Kiwi', 'Pear']"
      ]
     },
     "metadata": {},
     "output_type": "display_data"
    }
   ],
   "source": [
    "# Question 1: Basic List Operations\n",
    "\n",
    "# a) Create a list named `fruits` containing the following items: \"apple\", \"banana\", \"orange\", \"grape\", \"kiwi\".\n",
    "\n",
    "# b) Add \"pear\" to the end of the list.\n",
    "\n",
    "# c) Insert \"mango\" at the second position in the list.\n",
    "\n",
    "# d) Remove \"orange\" from the list.\n",
    "\n",
    "\n",
    "fruits = [\"Apple\", \"Banana\", \"Orange\", \"Grape\", \"Kiwi\"]\n",
    "\n",
    "display(fruits)\n",
    "\n",
    "fruits.append(\"Pear\")\n",
    "display(fruits)\n",
    "\n",
    "fruits.insert(1,\"Mango\")\n",
    "display(fruits)\n",
    "\n",
    "fruits.remove(\"Orange\")\n",
    "display(fruits)\n",
    "\n",
    "\n",
    "\n"
   ]
  },
  {
   "cell_type": "code",
   "execution_count": 2,
   "metadata": {},
   "outputs": [
    {
     "data": {
      "text/plain": [
       "[0, 1, 2, 3, 4, 5, 6, 7, 8, 9]"
      ]
     },
     "metadata": {},
     "output_type": "display_data"
    },
    {
     "name": "stdout",
     "output_type": "stream",
     "text": [
      "3\n",
      "[2, 3, 4, 5, 6]\n",
      "[9, 8, 7]\n"
     ]
    }
   ],
   "source": [
    "# Question 2: Slicing and Indexing\n",
    "\n",
    "# a) Create a list named `numbers` containing the integers from 0 to 9.\n",
    "\n",
    "# b) Print the element at index 3.\n",
    "\n",
    "# c) Print a sublist containing the elements from index 2 to 6 (inclusive).\n",
    "\n",
    "# d) Print the last three elements using negative indexing.\n",
    "\n",
    "\n",
    "numbers = list(range(0,10))\n",
    "display(numbers)\n",
    "\n",
    "print(numbers[3])\n",
    "\n",
    "print(numbers[2:7:1])\n",
    "\n",
    "print(numbers[-1:-4:-1])\n"
   ]
  },
  {
   "cell_type": "code",
   "execution_count": 3,
   "metadata": {},
   "outputs": [
    {
     "data": {
      "text/plain": [
       "[1, 2, 3, 4, 5, 6, 7, 8, 9, 10]"
      ]
     },
     "metadata": {},
     "output_type": "display_data"
    },
    {
     "data": {
      "text/plain": [
       "[1, 4, 9, 16, 25, 36, 49, 64, 81, 100]"
      ]
     },
     "metadata": {},
     "output_type": "display_data"
    },
    {
     "data": {
      "text/plain": [
       "[4, 16, 36, 64, 100]"
      ]
     },
     "metadata": {},
     "output_type": "display_data"
    }
   ],
   "source": [
    "# Question 3: List Comprehension\n",
    "\n",
    "# a) Create a list named `squares` using a list comprehension that contains the squares of numbers from 1 to 10.\n",
    "\n",
    "# b) Create a new list named `even_squares` using a list comprehension that contains the squares of even numbers from the `squares` list.\n",
    "\n",
    "numbers = list(range(1,11))\n",
    "display(numbers)\n",
    "\n",
    "\n",
    "squares = [x*x for x in numbers]\n",
    "display(squares)\n",
    "\n",
    "\n",
    "even_squares = [x for x in squares if x**(1/2)%2==0]\n",
    "display(even_squares)\n"
   ]
  },
  {
   "cell_type": "code",
   "execution_count": 4,
   "metadata": {},
   "outputs": [
    {
     "data": {
      "text/plain": [
       "['red', 'green', 'blue', 'yellow', 'purple']"
      ]
     },
     "metadata": {},
     "output_type": "display_data"
    },
    {
     "data": {
      "text/plain": [
       "['purple', 'green', 'blue', 'yellow', 'red']"
      ]
     },
     "metadata": {},
     "output_type": "display_data"
    }
   ],
   "source": [
    "# Question 4: List Manipulation\n",
    "\n",
    "# a) Create a list named `colors` containing the following items: \"red\", \"green\", \"blue\", \"yellow\", \"purple\".\n",
    "\n",
    "# b) Swap the first and last elements of the list.\n",
    "\n",
    "# c) Reverse the order of the list.\n",
    "\n",
    "# d) Remove the second and third elements from the list.\n",
    "\n",
    "\n",
    "colors = [\"red\", \"green\", \"blue\", \"yellow\", \"purple\"]\n",
    "display(colors)\n",
    "\n",
    "temp = colors.pop()\n",
    "colors.append(colors[0])\n",
    "colors[0] = temp\n",
    "\n",
    "display(colors)\n"
   ]
  },
  {
   "cell_type": "code",
   "execution_count": 5,
   "metadata": {},
   "outputs": [
    {
     "data": {
      "text/plain": [
       "['a', 'b', 'c', 'd', 'e', 'f', 'g', 'h', 'i', 'j']"
      ]
     },
     "metadata": {},
     "output_type": "display_data"
    },
    {
     "data": {
      "text/plain": [
       "['a', 'b', 'c', 'd', 'e']"
      ]
     },
     "metadata": {},
     "output_type": "display_data"
    },
    {
     "data": {
      "text/plain": [
       "['h', 'i', 'j']"
      ]
     },
     "metadata": {},
     "output_type": "display_data"
    }
   ],
   "source": [
    "# Question 5: Advanced Slicing\n",
    "\n",
    "# a) Create a list named `letters` containing the letters from 'a' to 'j'.\n",
    "\n",
    "# b) Using slicing, create a new list `first_half` containing the first half of the `letters` list.\n",
    "\n",
    "# c) Using slicing, create a new list `last_three` containing the last three elements of the `letters` list.\n",
    "\n",
    "\n",
    "letters = list(\"abcdefghij\")\n",
    "display(letters)\n",
    "\n",
    "\n",
    "\n",
    "first_half = letters[:5:]\n",
    "display(first_half)\n",
    "\n",
    "last_three = letters[-3::1]\n",
    "display(last_three)\n"
   ]
  },
  {
   "cell_type": "code",
   "execution_count": 6,
   "metadata": {},
   "outputs": [
    {
     "data": {
      "text/plain": [
       "[[1, 2, 3], [4, 5, 6], [7, 8, 9]]"
      ]
     },
     "metadata": {},
     "output_type": "display_data"
    },
    {
     "name": "stdout",
     "output_type": "stream",
     "text": [
      "6\n"
     ]
    },
    {
     "data": {
      "text/plain": [
       "[[1, 2, 3], [0, 5, 6], [7, 8, 9]]"
      ]
     },
     "metadata": {},
     "output_type": "display_data"
    }
   ],
   "source": [
    "# Question 6: Nested Lists\n",
    "\n",
    "# a) Create a nested list named `matrix` with the following rows:\n",
    "#    - [1, 2, 3]\n",
    "#    - [4, 5, 6]\n",
    "#    - [7, 8, 9]\n",
    "\n",
    "# b) Print the element in the second row and third column.\n",
    "\n",
    "# c) Use nested indexing to change the value at the second row and first column to 0.\n",
    "\n",
    "\n",
    "matrix = [ [1,2,3] , [4,5,6], [7,8,9] ]\n",
    "display(matrix)\n",
    "\n",
    "print(matrix[1][2])\n",
    "\n",
    "matrix[1][0] = 0\n",
    "\n",
    "display(matrix)\n"
   ]
  }
 ],
 "metadata": {
  "kernelspec": {
   "display_name": "base",
   "language": "python",
   "name": "python3"
  },
  "language_info": {
   "codemirror_mode": {
    "name": "ipython",
    "version": 3
   },
   "file_extension": ".py",
   "mimetype": "text/x-python",
   "name": "python",
   "nbconvert_exporter": "python",
   "pygments_lexer": "ipython3",
   "version": "3.8.5"
  },
  "orig_nbformat": 4
 },
 "nbformat": 4,
 "nbformat_minor": 2
}
