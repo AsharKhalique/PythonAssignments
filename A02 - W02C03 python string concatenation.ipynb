{
 "cells": [
  {
   "cell_type": "code",
   "execution_count": 3,
   "metadata": {},
   "outputs": [
    {
     "name": "stdout",
     "output_type": "stream",
     "text": [
      "My name is Ashar, I'm 41 years old. I live in Pakistan.\n"
     ]
    }
   ],
   "source": [
    "# **Assignment 1: String Concatenation and Formatting**\n",
    "\n",
    "# **Instructions:**\n",
    "\n",
    "# 1. Create a variable `name` and assign your name to it.\n",
    "# 2. Create a variable `age` and assign your age to it.\n",
    "# 3. Create a variable `country` and assign your country of residence to it.\n",
    "# 4. Using the `+` operator, concatenate the variables to form a sentence in the following format: \"My name is `<name>`, I am `<age>` years old, and I live in `<country>`.\"\n",
    "# 5. Print the concatenated sentence.\n",
    "\n",
    "\n",
    "name = \"Ashar\"\n",
    "age = 41\n",
    "country = \"Pakistan\"\n",
    "\n",
    "intro = \"My name is \" + name + \", I'm \"+ str(age) + \" years old. I live in \" + country + \".\"\n",
    "\n",
    "print (intro)\n"
   ]
  },
  {
   "cell_type": "code",
   "execution_count": 5,
   "metadata": {},
   "outputs": [
    {
     "name": "stdout",
     "output_type": "stream",
     "text": [
      "I bought 100 book(s) at 500 each, for a total of PKR 50000.\n"
     ]
    }
   ],
   "source": [
    "# **Assignment 2: String Formatting using `.format()`\n",
    "\n",
    "# **Instructions:**\n",
    "\n",
    "# 1. Create a variable `item` and assign a product name to it (e.g., \"laptop\", \"book\", \"phone\").\n",
    "# 2. Create a variable `price` and assign a price to the item.\n",
    "# 3. Create a variable `quantity` and assign a quantity value.\n",
    "# 4. Calculate the total cost using the formula: `total_cost = price * quantity`.\n",
    "# 5. Using the `.format()` method, create a formatted string: \"I bought `<quantity>` `<item>`(s) at `<price>` each, for a total of $`<total_cost>`.\"\n",
    "# 6. Print the formatted string.\n",
    "\n",
    "\n",
    "\n",
    "item = \"book\"\n",
    "price = 500\n",
    "quantity = 100\n",
    "\n",
    "total_cost = price * quantity\n",
    "\n",
    "text = \"I bought {} {}(s) at {} each, for a total of PKR {}.\".format(quantity,item,price,total_cost)\n",
    "print(text)\n",
    "\n"
   ]
  },
  {
   "cell_type": "code",
   "execution_count": 7,
   "metadata": {},
   "outputs": [
    {
     "name": "stdout",
     "output_type": "stream",
     "text": [
      "The temperature in Karachi is 40 degrees celcius.\n"
     ]
    }
   ],
   "source": [
    "# **Assignment 3: String Interpolation using `f''`\n",
    "\n",
    "# **Instructions:**\n",
    "\n",
    "# 1. Create a variable `city` and assign the name of a city.\n",
    "# 2. Create a variable `temperature` and assign a temperature value in Celsius.\n",
    "# 3. Using `f''` string interpolation, create a string: \"The temperature in `<city>` is `<temperature>`°C.\"\n",
    "# 4. Print the interpolated string.\n",
    "\n",
    "city = \"Karachi\"\n",
    "temperature = 40\n",
    "\n",
    "text = f\"The temperature in {city} is {temperature} degrees celcius.\"\n",
    "print (text)\n"
   ]
  },
  {
   "cell_type": "code",
   "execution_count": 15,
   "metadata": {},
   "outputs": [
    {
     "name": "stdout",
     "output_type": "stream",
     "text": [
      "My name is Ashar Khaliq. I'm 41 years old.\n"
     ]
    }
   ],
   "source": [
    "# **Assignment 4: String Formatting using `%()`\n",
    "\n",
    "# **Instructions:**\n",
    "\n",
    "# 1. Create a variable `first_name` and assign your first name to it.\n",
    "# 2. Create a variable `last_name` and assign your last name to it.\n",
    "# 3. Create a variable `birth_year` and assign your birth year.\n",
    "# 4. Calculate your age using the formula: `age = current_year - birth_year`, where `current_year` is the current year.\n",
    "# 5. Using `%()` string formatting, create a string: \"My name is %(first_name)s %(last_name)s. I am %(age)d years old.\"\n",
    "# 6. Print the formatted string.\n",
    "\n",
    "\n",
    "import datetime as dt\n",
    "\n",
    "\n",
    "first_name = \"Ashar\"\n",
    "last_name = \"Khaliq\"\n",
    "birth_year = 1982\n",
    "\n",
    "current_year = int(dt.date.today().strftime(\"%Y\"))\n",
    "\n",
    "age = current_year - birth_year\n",
    "\n",
    "print(\"My name is %s %s. I'm %d years old.\" % (first_name,last_name,age) )\n",
    "\n"
   ]
  },
  {
   "cell_type": "code",
   "execution_count": 21,
   "metadata": {},
   "outputs": [
    {
     "name": "stdout",
     "output_type": "stream",
     "text": [
      "Original price of Lux is 100.0 but - for a limited time only - we're offering a massive 20% discount! So get your Lux today at the low low price of just PKR 80.0!\n"
     ]
    }
   ],
   "source": [
    "# **Assignment 5: Combining Formatting Methods**\n",
    "\n",
    "# **Instructions:**\n",
    "\n",
    "# 1. Create a variable `product` and assign a product name.\n",
    "# 2. Create a variable `discount` and assign a discount percentage.\n",
    "# 3. Create a variable `original_price` and assign an original price.\n",
    "# 4. Calculate the discounted price using the formula: `discounted_price = original_price * (1 - discount / 100)`.\n",
    "# 5. Using any combination of string formatting methods (`+`, `.format()`, `f''`, `%()`), create a descriptive string with the product name, original price, discount percentage, and discounted price.\n",
    "# 6. Print the descriptive string.\n",
    "\n",
    "\n",
    "\n",
    "product = \"Lux\"\n",
    "discount = 20\n",
    "original_price = 100.0\n",
    "\n",
    "discounted_price = original_price * (1 - discount/100)\n",
    "\n",
    "text = f\"Original price of {product} is {original_price} but - for a limited time only - we're offering a massive {discount}% discount! So get your {product} today at the low low price of just PKR {discounted_price}!\"\n",
    "print (text)\n",
    "\n"
   ]
  }
 ],
 "metadata": {
  "kernelspec": {
   "display_name": "base",
   "language": "python",
   "name": "python3"
  },
  "language_info": {
   "codemirror_mode": {
    "name": "ipython",
    "version": 3
   },
   "file_extension": ".py",
   "mimetype": "text/x-python",
   "name": "python",
   "nbconvert_exporter": "python",
   "pygments_lexer": "ipython3",
   "version": "3.8.5"
  },
  "orig_nbformat": 4
 },
 "nbformat": 4,
 "nbformat_minor": 2
}
